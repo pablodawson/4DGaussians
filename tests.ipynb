{
 "cells": [
  {
   "cell_type": "code",
   "execution_count": 1,
   "metadata": {},
   "outputs": [],
   "source": [
    "import numpy as np"
   ]
  },
  {
   "cell_type": "code",
   "execution_count": 7,
   "metadata": {},
   "outputs": [],
   "source": [
    "def normalize_swizzle_rotation(wxyz):\n",
    "    return np.roll(np.array(wxyz / np.linalg.norm(wxyz)), -1)\n",
    "\n",
    "# e1 e2 e3 e4\n",
    "def pack_smallest_3_rotation(q):\n",
    "    abs_q = np.abs(q)\n",
    "    index = np.argmax(abs_q, axis=1)\n",
    "    q_rolled = np.roll(q, -index-1, axis=1)\n",
    "    signs = np.sign(q_rolled[:, 3])\n",
    "    three = q_rolled[:, :3] * signs[:, np.newaxis]\n",
    "    three = (three * np.sqrt(2)) * 0.5 + 0.5\n",
    "    index = index / 3.0\n",
    "    return np.column_stack((three, index)) "
   ]
  },
  {
   "cell_type": "code",
   "execution_count": 8,
   "metadata": {},
   "outputs": [
    {
     "data": {
      "text/plain": [
       "array([[0.44022728, 0.54703423, 0.49018123, 1.        ]])"
      ]
     },
     "execution_count": 8,
     "metadata": {},
     "output_type": "execute_result"
    }
   ],
   "source": [
    "rot = np.array([[2.71330, -0.23072, 0.18155, -0.03790]])\n",
    "rot = normalize_swizzle_rotation(rot)\n",
    "rot = pack_smallest_3_rotation(rot)\n",
    "rot"
   ]
  },
  {
   "cell_type": "code",
   "execution_count": 21,
   "metadata": {},
   "outputs": [
    {
     "name": "stdout",
     "output_type": "stream",
     "text": [
      "[[ 1  7  2  8  1  1]\n",
      " [ 3  9  4 10  3  4]\n",
      " [ 5 11  6 12  5  4]]\n"
     ]
    }
   ],
   "source": [
    "import numpy as np\n",
    "\n",
    "# Create two arrays with the same number of rows\n",
    "minimo = np.array([[1, 2, 1], [3, 4, 3], [5, 6, 5]])\n",
    "maximo = np.array([[7, 8,1], [9, 10,4], [11, 12,4]])\n",
    "\n",
    "# Stack the columns of the arrays horizontally\n",
    "output = np.array([np.ravel([mi,ma],order='F') for mi,ma in zip(minimo,maximo)])\n",
    "\n",
    "print(output)"
   ]
  },
  {
   "cell_type": "code",
   "execution_count": 22,
   "metadata": {},
   "outputs": [],
   "source": [
    "first = [1,2,3,4]\n",
    "second = [5,6,7,8]"
   ]
  },
  {
   "cell_type": "code",
   "execution_count": 24,
   "metadata": {},
   "outputs": [
    {
     "data": {
      "text/plain": [
       "array([1, 2, 3, 4, 5, 6, 7, 8])"
      ]
     },
     "execution_count": 24,
     "metadata": {},
     "output_type": "execute_result"
    }
   ],
   "source": [
    "data = np.concatenate((first, second))\n",
    "data"
   ]
  },
  {
   "cell_type": "code",
   "execution_count": null,
   "metadata": {},
   "outputs": [],
   "source": []
  }
 ],
 "metadata": {
  "kernelspec": {
   "display_name": "joint",
   "language": "python",
   "name": "python3"
  },
  "language_info": {
   "codemirror_mode": {
    "name": "ipython",
    "version": 3
   },
   "file_extension": ".py",
   "mimetype": "text/x-python",
   "name": "python",
   "nbconvert_exporter": "python",
   "pygments_lexer": "ipython3",
   "version": "3.10.12"
  }
 },
 "nbformat": 4,
 "nbformat_minor": 2
}
