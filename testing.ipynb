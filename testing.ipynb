{
 "cells": [
  {
   "cell_type": "code",
   "execution_count": 6,
   "metadata": {},
   "outputs": [],
   "source": [
    "import numpy as np\n",
    "from gaussian_to_unity.utils import *"
   ]
  },
  {
   "cell_type": "code",
   "execution_count": 32,
   "metadata": {},
   "outputs": [],
   "source": [
    "# random numbers from 0 to 1\n",
    "positions = np.random.rand(64, 3)\n",
    "\n",
    "#add some variance\n",
    "positions[0:10,:] = 0.5 * positions[0:10,:]\n",
    "positions[10:20,:] = 0.66 * positions[10:20,:]\n",
    "positions[20:30,:] = 0.33 * positions[20:30,:]\n",
    "positions[30:40,:] = 0.25 * positions[30:40,:]\n",
    "positions[40:50,:] = 0.75 * positions[40:50,:]\n",
    "positions[50:60,:] = 0.1 * positions[50:60,:]\n",
    "\n",
    "scales = np.random.rand(64, 3)"
   ]
  },
  {
   "cell_type": "code",
   "execution_count": 35,
   "metadata": {},
   "outputs": [],
   "source": [
    "# normalized pos, scale, pos bounds, scale bounds\n",
    "mean3d, scale, pos_chunks, scale_chunks = create_chunks(positions, scales, 64, 16)"
   ]
  },
  {
   "cell_type": "code",
   "execution_count": 52,
   "metadata": {},
   "outputs": [],
   "source": [
    "pos1 = mean3d[0:16]"
   ]
  },
  {
   "cell_type": "code",
   "execution_count": 53,
   "metadata": {},
   "outputs": [],
   "source": [
    "min_pos = pos_chunks[0][0]\n",
    "max_pos = pos_chunks[0][1]"
   ]
  },
  {
   "cell_type": "code",
   "execution_count": 55,
   "metadata": {},
   "outputs": [],
   "source": [
    "pos_recon1 = (max_pos - min_pos) * pos1 + min_pos"
   ]
  },
  {
   "cell_type": "code",
   "execution_count": 56,
   "metadata": {},
   "outputs": [
    {
     "data": {
      "text/plain": [
       "array([[0.66302182, 0.10324328, 0.99999797],\n",
       "       [0.99999794, 0.99999785, 0.        ],\n",
       "       [0.5046511 , 0.99854141, 0.14971607],\n",
       "       [0.46418535, 0.65546846, 0.40299271],\n",
       "       [0.48092749, 0.98288508, 0.16035499],\n",
       "       [0.59496871, 0.        , 0.87279668],\n",
       "       [0.29355399, 0.32086461, 0.68317754],\n",
       "       [0.55661701, 0.63457766, 0.25301558],\n",
       "       [0.17164654, 0.86175391, 0.26386252],\n",
       "       [0.01355754, 0.82056211, 0.65231435],\n",
       "       [0.88375605, 0.87536499, 0.30499661],\n",
       "       [0.72343392, 0.56098314, 0.64894462],\n",
       "       [0.6871621 , 0.73141113, 0.83207628],\n",
       "       [0.13776834, 0.62985952, 0.03548581],\n",
       "       [0.        , 0.37811144, 0.41260122],\n",
       "       [0.98789069, 0.58228399, 0.69966976]])"
      ]
     },
     "execution_count": 56,
     "metadata": {},
     "output_type": "execute_result"
    }
   ],
   "source": [
    "pos_recon1"
   ]
  },
  {
   "cell_type": "code",
   "execution_count": 58,
   "metadata": {},
   "outputs": [
    {
     "data": {
      "text/plain": [
       "array([[False, False, False],\n",
       "       [False, False,  True],\n",
       "       [False, False, False],\n",
       "       [False, False, False],\n",
       "       [False, False, False],\n",
       "       [False,  True, False],\n",
       "       [False, False, False],\n",
       "       [False, False, False],\n",
       "       [False, False, False],\n",
       "       [False, False, False],\n",
       "       [False, False, False],\n",
       "       [False, False, False],\n",
       "       [False, False, False],\n",
       "       [False, False, False],\n",
       "       [ True, False, False],\n",
       "       [False, False, False]])"
      ]
     },
     "execution_count": 58,
     "metadata": {},
     "output_type": "execute_result"
    }
   ],
   "source": [
    "positions[0:16] == pos_recon1"
   ]
  },
  {
   "cell_type": "code",
   "execution_count": null,
   "metadata": {},
   "outputs": [],
   "source": []
  }
 ],
 "metadata": {
  "kernelspec": {
   "display_name": "base",
   "language": "python",
   "name": "python3"
  },
  "language_info": {
   "codemirror_mode": {
    "name": "ipython",
    "version": 3
   },
   "file_extension": ".py",
   "mimetype": "text/x-python",
   "name": "python",
   "nbconvert_exporter": "python",
   "pygments_lexer": "ipython3",
   "version": "3.10.4"
  }
 },
 "nbformat": 4,
 "nbformat_minor": 2
}
